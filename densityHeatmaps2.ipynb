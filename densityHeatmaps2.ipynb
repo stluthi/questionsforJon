{
 "cells": [
  {
   "cell_type": "code",
   "execution_count": 1,
   "id": "dbb54157-d6f2-4b2b-a8dc-08c8d829aaf6",
   "metadata": {},
   "outputs": [
    {
     "name": "stderr",
     "output_type": "stream",
     "text": [
      "ERROR 1: PROJ: proj_create_from_database: Open of /opt/miniconda3/envs/prod/share/proj failed\n"
     ]
    }
   ],
   "source": [
    "# Imports\n",
    "import numpy as np\n",
    "import xarray as xr\n",
    "import matplotlib.pyplot as plt\n",
    "from matplotlib.cm import get_cmap\n",
    "import matplotlib.cm as cm\n",
    "from matplotlib.colors import ListedColormap\n",
    "import matplotlib.gridspec as gridspec\n",
    "from matplotlib.colorbar import Colorbar\n",
    "%matplotlib inline\n",
    "from wrf import to_np\n",
    "import metpy.calc as mpcalc\n",
    "from metpy.units import units\n",
    "import pandas as pd\n",
    "import seaborn as sns\n",
    "import plotly.express as px\n",
    "from scipy.stats import kde"
   ]
  },
  {
   "cell_type": "code",
   "execution_count": 2,
   "id": "d10bcafa-0280-4b29-b0e4-1cdfaa7530e7",
   "metadata": {},
   "outputs": [],
   "source": [
    "# Define functions\n",
    "def open_ds(bubble, wind, hres, vres):\n",
    "    filepath = (f'/chinook2/stluthi/cm1_output/{bubble}_bubble/{wind}/{hres}dx_{vres}/cm1out_{hres}dx_{vres}.nc')\n",
    "    return xr.open_dataset(filepath)"
   ]
  },
  {
   "cell_type": "code",
   "execution_count": 3,
   "id": "c8a65386-95aa-4c79-a995-52142a16063d",
   "metadata": {},
   "outputs": [],
   "source": [
    "# Open datasets\n",
    "cm1_3km50dz = open_ds('multi', 'multicell', '3km', '50vlvls')\n",
    "cm1_1km50dz = open_ds('multi', 'multicell', '1km', '50vlvls')"
   ]
  },
  {
   "cell_type": "code",
   "execution_count": 4,
   "id": "d571324b-3002-45f6-affd-d6393077f501",
   "metadata": {},
   "outputs": [],
   "source": [
    "# Get variables for 3- and 1-km\n",
    "cpc_3km = cm1_3km50dz['cpc']\n",
    "cpc_1km = cm1_1km50dz['cpc']"
   ]
  },
  {
   "cell_type": "code",
   "execution_count": 5,
   "id": "906673c8-3cb4-4af1-ab1d-599b4d9dc51a",
   "metadata": {},
   "outputs": [],
   "source": [
    "# Filter out zeros from both datasets\n",
    "cpc_3km = cpc_3km.where(cpc_3km > 0)\n",
    "cpc_1km = cpc_1km.where(cpc_1km > 0)"
   ]
  },
  {
   "cell_type": "code",
   "execution_count": 6,
   "id": "cc964002-eaab-4d46-9d54-d697e0488620",
   "metadata": {},
   "outputs": [],
   "source": [
    "# Coarsen 1-km grid to 3-km\n",
    "cpc_1km_regrid = cpc_1km.coarsen({'xh': 3, 'yh': 3}, boundary='trim').mean()"
   ]
  },
  {
   "cell_type": "code",
   "execution_count": 7,
   "id": "36b5b303-d791-472c-a5dd-e2ece7e34c98",
   "metadata": {},
   "outputs": [
    {
     "name": "stderr",
     "output_type": "stream",
     "text": [
      "/tmp/ipykernel_2671038/526573525.py:2: DeprecationWarning: Please use `gaussian_kde` from the `scipy.stats` namespace, the `scipy.stats.kde` namespace is deprecated.\n",
      "  k = kde.gaussian_kde([x, y])\n"
     ]
    },
    {
     "ename": "NameError",
     "evalue": "name 'x' is not defined",
     "output_type": "error",
     "traceback": [
      "\u001b[0;31m---------------------------------------------------------------------------\u001b[0m",
      "\u001b[0;31mNameError\u001b[0m                                 Traceback (most recent call last)",
      "Cell \u001b[0;32mIn[7], line 2\u001b[0m\n\u001b[1;32m      1\u001b[0m nbins \u001b[38;5;241m=\u001b[39m \u001b[38;5;241m300\u001b[39m\n\u001b[0;32m----> 2\u001b[0m k \u001b[38;5;241m=\u001b[39m kde\u001b[38;5;241m.\u001b[39mgaussian_kde([\u001b[43mx\u001b[49m, y])\n\u001b[1;32m      3\u001b[0m xi, yi \u001b[38;5;241m=\u001b[39m np\u001b[38;5;241m.\u001b[39mmgrid[x\u001b[38;5;241m.\u001b[39mmin():x\u001b[38;5;241m.\u001b[39mmax():nbins\u001b[38;5;241m*\u001b[39m\u001b[38;5;241m1\u001b[39mj, y\u001b[38;5;241m.\u001b[39mmin():y\u001b[38;5;241m.\u001b[39mmax():nbins\u001b[38;5;241m*\u001b[39m\u001b[38;5;241m1\u001b[39mj]\n\u001b[1;32m      4\u001b[0m zi \u001b[38;5;241m=\u001b[39m k(np\u001b[38;5;241m.\u001b[39mvstack([xi\u001b[38;5;241m.\u001b[39mflatten(), yi\u001b[38;5;241m.\u001b[39mflatten()]))\n",
      "\u001b[0;31mNameError\u001b[0m: name 'x' is not defined"
     ]
    }
   ],
   "source": [
    "nbins = 300\n",
    "k = kde.gaussian_kde([x, y])\n",
    "xi, yi = np.mgrid[x.min():x.max():nbins*1j, y.min():y.max():nbins*1j]\n",
    "zi = k(np.vstack([xi.flatten(), yi.flatten()]))"
   ]
  },
  {
   "cell_type": "code",
   "execution_count": null,
   "id": "a5a5f0b1-d85e-493f-9652-4578bd88cdf3",
   "metadata": {},
   "outputs": [],
   "source": []
  }
 ],
 "metadata": {
  "kernelspec": {
   "display_name": "Python 3 (ipykernel)",
   "language": "python",
   "name": "python3"
  },
  "language_info": {
   "codemirror_mode": {
    "name": "ipython",
    "version": 3
   },
   "file_extension": ".py",
   "mimetype": "text/x-python",
   "name": "python",
   "nbconvert_exporter": "python",
   "pygments_lexer": "ipython3",
   "version": "3.10.11"
  }
 },
 "nbformat": 4,
 "nbformat_minor": 5
}
